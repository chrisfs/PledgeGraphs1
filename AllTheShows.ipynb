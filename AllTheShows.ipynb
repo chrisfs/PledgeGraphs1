{
 "metadata": {
  "name": "AllTheShows"
 },
 "nbformat": 3,
 "nbformat_minor": 0,
 "worksheets": [
  {
   "cells": [
    {
     "cell_type": "code",
     "collapsed": false,
     "input": [
      "from pandas import*\n",
      "import matplotlib\n",
      "import numpy as np\n",
      "import matplotlib.pyplot as plt\n",
      "from matplotlib.backends.backend_pdf import PdfPages\n",
      "import easygui\n"
     ],
     "language": "python",
     "metadata": {},
     "outputs": [],
     "prompt_number": 12
    },
    {
     "cell_type": "code",
     "collapsed": false,
     "input": [
      "set_printoptions(max_rows=500)\n",
      "set_printoptions(max_columns=30)"
     ],
     "language": "python",
     "metadata": {},
     "outputs": [],
     "prompt_number": 13
    },
    {
     "cell_type": "code",
     "collapsed": false,
     "input": [
      "infile =open(easygui.fileopenbox(),\"r\")\n",
      "\n",
      "pledge = read_csv(infile,parse_dates='true')\n",
      "#pledge = read_csv(\"Feb2013pledgedata.txt\")"
     ],
     "language": "python",
     "metadata": {},
     "outputs": [],
     "prompt_number": 14
    },
    {
     "cell_type": "code",
     "collapsed": true,
     "input": [
      "EachShow = PdfPages('EachShow.pdf')\n",
      "\n",
      "showlist = sorted(unique(pledge.Progcode))\n",
      "for show in showlist:\n",
      "    if pledge[pledge.Progcode==show].Amount.sum() > 0.01*pledge.Amount.sum():\n",
      "        pledge[pledge.Progcode==show].groupby(['Date','Break'])['Amount'].sum().plot(kind='bar')\n",
      "        plt.title(show)\n",
      "        plt.tight_layout()\n",
      "        plt.savefig(EachShow, format='pdf')\n",
      "        plt.figure()\n",
      "         \n",
      "EachShow.close()"
     ],
     "language": "python",
     "metadata": {},
     "outputs": [],
     "prompt_number": 15
    },
    {
     "cell_type": "code",
     "collapsed": false,
     "input": [
      "\n",
      "    "
     ],
     "language": "python",
     "metadata": {},
     "outputs": [],
     "prompt_number": 15
    },
    {
     "cell_type": "code",
     "collapsed": false,
     "input": [],
     "language": "python",
     "metadata": {},
     "outputs": [],
     "prompt_number": 16
    },
    {
     "cell_type": "code",
     "collapsed": false,
     "input": [],
     "language": "python",
     "metadata": {},
     "outputs": [],
     "prompt_number": 16
    }
   ],
   "metadata": {}
  }
 ]
}